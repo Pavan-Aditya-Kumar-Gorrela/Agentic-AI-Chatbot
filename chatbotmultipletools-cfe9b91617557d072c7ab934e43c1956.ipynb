{
 "cells": [
  {
   "cell_type": "code",
   "execution_count": 1,
   "metadata": {},
   "outputs": [],
   "source": [
    "## tools\n",
    "\n",
    "from langchain_community.tools import ArxivQueryRun,WikipediaQueryRun\n",
    "from langchain_community.utilities import WikipediaAPIWrapper,ArxivAPIWrapper"
   ]
  },
  {
   "cell_type": "code",
   "execution_count": 2,
   "metadata": {},
   "outputs": [
    {
     "name": "stdout",
     "output_type": "stream",
     "text": [
      "arxiv\n"
     ]
    }
   ],
   "source": [
    "api_wrapper_arxiv=ArxivAPIWrapper(top_k_results=2,doc_content_chars_max=500)\n",
    "arxiv=ArxivQueryRun(api_wrapper=api_wrapper_arxiv,description=\"Query arxiv papers\")\n",
    "print(arxiv.name)"
   ]
  },
  {
   "cell_type": "code",
   "execution_count": 3,
   "metadata": {},
   "outputs": [
    {
     "data": {
      "text/plain": [
       "'Published: 2023-05-23\\nTitle: Fast and energy-efficient non-volatile III-V-on-silicon photonic phase shifter based on memristors\\nAuthors: Zhuoran Fang, Bassem Tossoun, Antoine Descos, Di Liang, Xue Huang, Geza Kurczveil, Arka Majumdar, Raymond G. Beausoleil\\nSummary: Silicon photonics has evolved from lab research to commercial products in the\\npast decade as it plays an increasingly crucial role in data communication for\\nnext-generation data centers and high performance computing1. Recently,\\nprogr'"
      ]
     },
     "execution_count": 3,
     "metadata": {},
     "output_type": "execute_result"
    }
   ],
   "source": [
    "arxiv.invoke(\"What is the latest research on quantum computing?\")"
   ]
  },
  {
   "cell_type": "code",
   "execution_count": 4,
   "metadata": {},
   "outputs": [
    {
     "data": {
      "text/plain": [
       "'wikipedia'"
      ]
     },
     "execution_count": 4,
     "metadata": {},
     "output_type": "execute_result"
    }
   ],
   "source": [
    "api_wrapper_wiki=WikipediaAPIWrapper(top_k_results=1,doc_content_chars_max=500)\n",
    "wiki=WikipediaQueryRun(api_wrapper=api_wrapper_wiki)\n",
    "wiki.name"
   ]
  },
  {
   "cell_type": "code",
   "execution_count": 5,
   "metadata": {},
   "outputs": [],
   "source": [
    "from dotenv import load_dotenv\n",
    "load_dotenv()\n",
    "\n",
    "import os\n",
    "\n",
    "os.environ[\"TAVILY_API_KEY\"]=os.getenv(\"TAVILY_API\")\n",
    "os.environ[\"GROQ_API_KEY\"]=os.getenv(\"GROQ_API\")"
   ]
  },
  {
   "cell_type": "code",
   "execution_count": 6,
   "metadata": {},
   "outputs": [],
   "source": [
    "### Tavily Search Tool\n",
    "from langchain_community.tools.tavily_search import TavilySearchResults\n",
    "\n",
    "tavily = TavilySearchResults()"
   ]
  },
  {
   "cell_type": "code",
   "execution_count": 7,
   "metadata": {},
   "outputs": [
    {
     "data": {
      "text/plain": [
       "[{'title': 'Artificial Intelligence News - ScienceDaily',\n",
       "  'url': 'https://www.sciencedaily.com/news/computers_math/artificial_intelligence/',\n",
       "  'content': 'Artificial Intelligence News\\n\\nTop Headlines\\n\\nLatest Headlines\\n\\nEarlier Headlines\\n\\nTuesday, April 8, 2025\\n\\nThursday, April 3, 2025\\n\\nThursday, March 27, 2025\\n\\nWednesday, March 26, 2025\\n\\nTuesday, March 25, 2025\\n\\nWednesday, March 19, 2025\\n\\nTuesday, March 18, 2025\\n\\nMonday, March 17, 2025\\n\\nThursday, March 6, 2025\\n\\nWednesday, March 5, 2025\\n\\nTuesday, March 4, 2025\\n\\nWednesday, February 26, 2025\\n\\nTuesday, February 25, 2025\\n\\nFriday, February 21, 2025\\n\\nThursday, February 20, 2025 [...] Wednesday, February 19, 2025\\n\\nThursday, February 13, 2025\\n\\nMonday, February 10, 2025\\n\\nMonday, February 3, 2025\\n\\nWednesday, January 29, 2025\\n\\nTuesday, January 28, 2025\\n\\nMonday, January 27, 2025\\n\\nTuesday, January 21, 2025\\n\\nThursday, January 16, 2025\\n\\nWednesday, January 15, 2025\\n\\nTuesday, January 14, 2025\\n\\nThursday, January 9, 2025\\n\\nWednesday, January 8, 2025\\n\\nMonday, January 6, 2025\\n\\nThursday, January 2, 2025\\n\\nFriday, December 27, 2024\\n\\nThursday, December 26, 2024\\n\\nThursday, December 19, 2024 [...] Wednesday, December 18, 2024\\n\\nTuesday, December 17, 2024\\n\\nMonday, December 16, 2024\\n\\nTuesday, December 10, 2024\\n\\nMonday, December 9, 2024\\n\\nFriday, December 6, 2024\\n\\nWednesday, December 4, 2024\\n\\nMonday, December 2, 2024\\n\\nFriday, November 29, 2024\\n\\nTuesday, November 26, 2024\\n\\nMonday, November 25, 2024\\n\\nThursday, November 21, 2024\\n\\nWednesday, November 20, 2024\\n\\nTuesday, November 19, 2024\\n\\nMonday, November 18, 2024\\n\\nSaturday, November 16, 2024\\n\\nThursday, November 14, 2024',\n",
       "  'score': 0.71185225},\n",
       " {'title': 'AI News | Latest AI News, Analysis & Events',\n",
       "  'url': 'https://www.artificialintelligence-news.com/',\n",
       "  'content': 'AI News reports on the latest artificial intelligence news and insights. Explore industry trends from the frontline of AI.',\n",
       "  'score': 0.650934},\n",
       " {'title': 'AI News & Artificial Intelligence - TechCrunch',\n",
       "  'url': 'https://techcrunch.com/category/artificial-intelligence/',\n",
       "  'content': 'TechCrunch Mobility: Aurora launches its driverless commercial trucking service, and a surprise bidder joins Canoo’s bankruptcy case\\n\\nGoogle will soon start letting kids under 13 use its Gemini chatbot\\n\\nGoogle will soon start letting kids under 13 use its Gemini chatbot\\n\\nOne of Google’s recent Gemini AI models scores worse on safety\\n\\nOne of Google’s recent Gemini AI models scores worse on safety\\n\\nApple and Anthropic reportedly partner to build an AI coding platform [...] One of Google’s recent Gemini AI models scores worse on safety\\n\\nApple and Anthropic reportedly partner to build an AI coding platform\\n\\nOpenAI pledges to make changes to prevent future ChatGPT sycophancy\\n\\nGoogle’s NotebookLM Android and iOS apps are available for preorder\\n\\nDamn, the Cluely ragebait got us\\n\\nAirbnb is quietly rolling out an AI customer service bot in the US\\n\\nAmazon CEO says 100,000 users now have Alexa+\\n\\nFutureHouse releases AI tools it claims can accelerate science [...] Google is reportedly showing ads in chats with some third-party AI chatbots\\n\\nMicrosoft’s most capable new Phi 4 AI model rivals the performance of far larger systems\\n\\nWorld partners with Tinder, Visa to bring its ID-verifying tech to more places\\n\\nSam Altman’s World unveils a mobile verification device\\n\\nMeta forecasted it would make $1.4T in revenue from generative AI by 2035\\n\\nAmazon launches Nova Premier, its most capable AI model yet',\n",
       "  'score': 0.6415577},\n",
       " {'title': 'Artificial Intelligence - Latest AI News and Analysis - WSJ.com',\n",
       "  'url': 'https://www.wsj.com/tech/ai',\n",
       "  'content': 'The latest artificial intelligence news coverage focusing on the technology, tools and the companies building AI technology.',\n",
       "  'score': 0.6383174},\n",
       " {'title': 'Latest AI news and blog posts - Google AI',\n",
       "  'url': 'https://ai.google/latest-news/',\n",
       "  'content': 'Read about the latest AI news and explore blogs for researchers, IT leaders, developers, and more.',\n",
       "  'score': 0.6364215}]"
      ]
     },
     "execution_count": 7,
     "metadata": {},
     "output_type": "execute_result"
    }
   ],
   "source": [
    "tavily.invoke(\"Provide me the recent AI news?\")"
   ]
  },
  {
   "cell_type": "code",
   "execution_count": 8,
   "metadata": {},
   "outputs": [],
   "source": [
    "## combine all these tools in the list\n",
    "tools=[arxiv, wiki, tavily]"
   ]
  },
  {
   "cell_type": "code",
   "execution_count": 9,
   "metadata": {},
   "outputs": [],
   "source": [
    "## Initialize the LLM Model\n",
    "from langchain_groq import ChatGroq\n",
    "\n",
    "llm=ChatGroq(model=\"qwen-qwq-32b\")\n"
   ]
  },
  {
   "cell_type": "code",
   "execution_count": 10,
   "metadata": {},
   "outputs": [
    {
     "data": {
      "text/plain": [
       "AIMessage(content='\\n<think>\\nOkay, the user is asking, \"What is AI?\" Let me start by breaking down the term first. AI stands for Artificial Intelligence. I should explain that it\\'s a field of computer science. But wait, maybe I should also mention the broader definition. The user might be a beginner, so I need to make it simple.\\n\\nI should define AI as the development of computer systems that can perform tasks that usually require human intelligence. Examples like problem-solving, learning, and perception come to mind. Maybe list some common applications like speech recognition, image processing, and decision-making systems.\\n\\nNext, I should explain the types of AI. There\\'s the distinction between narrow or weak AI and general or strong AI. Narrow AI is what we have now, like Siri or recommendation systems. General AI is still theoretical, where machines can handle any intellectual task a human can do. That\\'s important because people might confuse the two without knowing.\\n\\nThen, the key areas of AI. Machine learning is a subset, right? And within that, there\\'s supervised, unsupervised, and reinforcement learning. Maybe mention neural networks and deep learning as well. These are the methods that power many AI applications today.\\n\\nApplications are crucial to making it relatable. Examples like virtual assistants, autonomous vehicles, healthcare diagnostics, and customer service chatbots. People encounter these daily, so concrete examples help them understand better.\\n\\nHistory and development would add context. Mentioning pioneers like Alan Turing and early milestones like the Dartmouth Conference in 1956. It shows it\\'s not a new concept but has evolved significantly.\\n\\nCurrent challenges and ethical issues are important too. Data privacy, bias in algorithms, job displacement, and the need for ethical guidelines. These are hot topics and show that AI isn\\'t just about technology but also societal impact.\\n\\nThe future of AI could include advancements in robotics, more human-like interactions, and the potential for AI to drive innovation in various fields. But also note the ongoing debates about regulation and responsible use.\\n\\nI need to structure this in a clear way without getting too technical. Start with a simple definition, then types, key areas, applications, history, challenges, and future. Make sure each section flows into the next. Avoid jargon where possible, but some terms are necessary. Maybe end with a summary that ties it all together.\\n\\nWait, the user might also be interested in how AI affects them personally. Including everyday examples can help. For instance, how Netflix recommends shows or how spam filters work. That makes it more tangible.\\n\\nAlso, clarify that AI isn\\'t a single technology but an umbrella term. It includes machine learning, natural language processing, computer vision, etc. Explaining these subfields briefly might help.\\n\\nHmm, should I mention specific algorithms or keep it high-level? Probably keep it high-level since the question is general. But terms like neural networks are common enough now, so they\\'re okay to mention.\\n\\nEthics is a big part of AI now, so emphasizing responsible AI development is key. Maybe touch on transparency and accountability too.\\n\\nI need to check if I\\'m covering all aspects without overwhelming the reader. Let me structure it as an overview, not an in-depth technical explanation. The user wants to know the basics, so focus on that. Alright, putting it all together now.\\n</think>\\n\\nArtificial Intelligence (AI) refers to the development of computer systems capable of performing tasks that typically require human intelligence. These tasks include learning, reasoning, problem-solving, perception (e.g., recognizing speech or images), and decision-making. AI systems analyze data to identify patterns, make predictions, and automate processes, often improving their performance over time through exposure to new data.\\n\\n### **Key Concepts and Types**\\n1. **Narrow (Weak) AI**:  \\n   - The most common form today, designed to perform **specific tasks**. Examples include:  \\n     - Virtual assistants (e.g., Siri, Alexa).  \\n     - Recommendation systems (e.g., Netflix, Spotify).  \\n     - Spam filters and fraud detection in banks.  \\n   - These systems operate within predefined boundaries and lack general cognitive abilities.\\n\\n2. **General (Strong) AI**:  \\n   - A theoretical form of AI that would possess human-like **consciousness, self-awareness, and the ability to handle any intellectual task**.  \\n   - This is not yet achievable and remains a topic of research and debate.\\n\\n### **Core Technologies**\\n- **Machine Learning (ML)**:  \\n  A subset of AI where systems learn from data without explicit programming. Subtypes include:  \\n  - *Supervised learning*: Trained on labeled data (e.g., predicting house prices).  \\n  - *Unsupervised learning*: Finding patterns in unlabeled data (e.g., customer segmentation).  \\n  - *Reinforcement learning*: Learning through trial-and-error rewards (e.g., game-playing bots).\\n\\n- **Deep Learning**:  \\n  A type of ML using **neural networks** inspired by the human brain. It powers advancements in areas like image recognition (e.g., medical diagnostics) and natural language processing (e.g., Google Translate).\\n\\n- **Natural Language Processing (NLP)**:  \\n  Enables machines to understand, interpret, and generate human language (e.g., chatbots, voice assistants).\\n\\n- **Computer Vision**:  \\n  Allows systems to interpret visual data (e.g., facial recognition, autonomous vehicles).\\n\\n### **Applications in Daily Life**\\n- **Healthcare**: Diagnosing diseases via medical imaging or predicting patient outcomes.  \\n- **Transportation**: Self-driving cars (e.g., Tesla Autopilot).  \\n- **Retail**: Personalized shopping experiences and inventory management.  \\n- **Entertainment**: AI-generated content (e.g., music, art) and gaming.  \\n- **Finance**: Fraud detection, algorithmic trading, and risk analysis.\\n\\n### **History**\\n- **1950s–1970s**: Early concepts, like Alan Turing’s \"Turing Test\" and the Dartmouth Conference (1956).  \\n- **1980s–2010s**: Advances in machine learning, expert systems, and neural networks.  \\n- **2010s–Present**: Explosive growth due to big data, faster computing, and breakthroughs in deep learning.\\n\\n### **Challenges and Ethics**\\n- **Data Bias**: AI can perpetuate societal biases if trained on skewed datasets.  \\n- **Privacy Concerns**: Risks of surveillance and data misuse.  \\n- **Job Displacement**: Automation may disrupt certain industries.  \\n- **Transparency**: \"Black box\" algorithms can be hard to interpret (e.g., why an AI made a decision).  \\n- **Safety and Control**: Ensuring AI systems act ethically and safely.\\n\\n### **Future Directions**\\n- **General AI**: Research into machines with human-like adaptability.  \\n- **AI Ethics**: Developing frameworks for fairness, accountability, and transparency.  \\n- **Human-AI Collaboration**: Enhancing creativity, education, and scientific discovery.  \\n- **AI in Emerging Fields**: Climate modeling, space exploration, and personalized medicine.\\n\\n### **In Summary**\\nAI is a transformative technology that mimics human intelligence to solve complex problems, automate tasks, and drive innovation. While it offers immense potential, its development must be guided by ethical considerations to ensure benefits outweigh risks. As AI continues to evolve, it will play an increasingly critical role in shaping the future of work, society, and global challenges.', additional_kwargs={}, response_metadata={'token_usage': {'completion_tokens': 1519, 'prompt_tokens': 13, 'total_tokens': 1532, 'completion_time': 3.723312733, 'prompt_time': 0.002885237, 'queue_time': 0.252203426, 'total_time': 3.72619797}, 'model_name': 'qwen-qwq-32b', 'system_fingerprint': 'fp_3796682456', 'finish_reason': 'stop', 'logprobs': None}, id='run--d7ad3e3b-612e-4c4f-aa28-b76accbc6e81-0', usage_metadata={'input_tokens': 13, 'output_tokens': 1519, 'total_tokens': 1532})"
      ]
     },
     "execution_count": 10,
     "metadata": {},
     "output_type": "execute_result"
    }
   ],
   "source": [
    "llm.invoke(\"What is AI\")"
   ]
  },
  {
   "cell_type": "code",
   "execution_count": 11,
   "metadata": {},
   "outputs": [],
   "source": [
    "llm_with_tools=llm.bind_tools(tools=tools)\n"
   ]
  },
  {
   "cell_type": "code",
   "execution_count": 12,
   "metadata": {},
   "outputs": [
    {
     "data": {
      "text/plain": [
       "AIMessage(content='', additional_kwargs={'tool_calls': [{'id': 'call_b2fa', 'function': {'arguments': '{\"query\": \"What is the recent news on AI?\"}', 'name': 'tavily_search_results_json'}, 'type': 'function'}]}, response_metadata={'token_usage': {'completion_tokens': 188, 'prompt_tokens': 356, 'total_tokens': 544, 'completion_time': 0.456593052, 'prompt_time': 0.022091319, 'queue_time': 0.249482113, 'total_time': 0.478684371}, 'model_name': 'qwen-qwq-32b', 'system_fingerprint': 'fp_3796682456', 'finish_reason': 'tool_calls', 'logprobs': None}, id='run--8a0ab8be-b468-4e0c-9920-bde1562e0cc8-0', tool_calls=[{'name': 'tavily_search_results_json', 'args': {'query': 'What is the recent news on AI?'}, 'id': 'call_b2fa', 'type': 'tool_call'}], usage_metadata={'input_tokens': 356, 'output_tokens': 188, 'total_tokens': 544})"
      ]
     },
     "execution_count": 12,
     "metadata": {},
     "output_type": "execute_result"
    }
   ],
   "source": [
    "## Execute this call\n",
    "llm_with_tools.invoke(\"What is the recent news on AI?\")"
   ]
  },
  {
   "cell_type": "code",
   "execution_count": 13,
   "metadata": {},
   "outputs": [
    {
     "data": {
      "text/plain": [
       "AIMessage(content='', additional_kwargs={'tool_calls': [{'id': 'call_0ns7', 'function': {'arguments': '{\"query\": \"latest research on quantum computing\"}', 'name': 'arxiv'}, 'type': 'function'}]}, response_metadata={'token_usage': {'completion_tokens': 138, 'prompt_tokens': 357, 'total_tokens': 495, 'completion_time': 0.334647505, 'prompt_time': 0.020007276, 'queue_time': 0.247132565, 'total_time': 0.354654781}, 'model_name': 'qwen-qwq-32b', 'system_fingerprint': 'fp_512a3da6bb', 'finish_reason': 'tool_calls', 'logprobs': None}, id='run--57c3d7b4-219d-4b47-858d-aa3dd044c821-0', tool_calls=[{'name': 'arxiv', 'args': {'query': 'latest research on quantum computing'}, 'id': 'call_0ns7', 'type': 'tool_call'}], usage_metadata={'input_tokens': 357, 'output_tokens': 138, 'total_tokens': 495})"
      ]
     },
     "execution_count": 13,
     "metadata": {},
     "output_type": "execute_result"
    }
   ],
   "source": [
    "## Execute this call\n",
    "llm_with_tools.invoke(\"What is the latest research on quantum computing?\")\n"
   ]
  },
  {
   "cell_type": "code",
   "execution_count": 14,
   "metadata": {},
   "outputs": [
    {
     "data": {
      "text/plain": [
       "AIMessage(content='', additional_kwargs={'tool_calls': [{'id': 'call_d092', 'function': {'arguments': '{\"query\": \"Machine learning\"}', 'name': 'wikipedia'}, 'type': 'function'}]}, response_metadata={'token_usage': {'completion_tokens': 365, 'prompt_tokens': 353, 'total_tokens': 718, 'completion_time': 0.82729369, 'prompt_time': 0.022160416, 'queue_time': 0.267687065, 'total_time': 0.849454106}, 'model_name': 'qwen-qwq-32b', 'system_fingerprint': 'fp_a91d9c2cfb', 'finish_reason': 'tool_calls', 'logprobs': None}, id='run--bcd4b9e3-553d-4fe9-b281-5db5f8ddeeef-0', tool_calls=[{'name': 'wikipedia', 'args': {'query': 'Machine learning'}, 'id': 'call_d092', 'type': 'tool_call'}], usage_metadata={'input_tokens': 353, 'output_tokens': 365, 'total_tokens': 718})"
      ]
     },
     "execution_count": 14,
     "metadata": {},
     "output_type": "execute_result"
    }
   ],
   "source": [
    "## Execute this call\n",
    "llm_with_tools.invoke(\"What is machine learning?\")"
   ]
  },
  {
   "cell_type": "markdown",
   "metadata": {},
   "source": [
    "## Workflow "
   ]
  },
  {
   "cell_type": "code",
   "execution_count": 15,
   "metadata": {},
   "outputs": [],
   "source": [
    "## State Schema\n",
    "from typing_extensions import TypedDict\n",
    "from langchain_core.messages import AnyMessage ## Human message or AI message\n",
    "from typing import Annotated  ## labelling\n",
    "from langgraph.graph.message import add_messages  ## Reducers in Langgraph"
   ]
  },
  {
   "cell_type": "code",
   "execution_count": 16,
   "metadata": {},
   "outputs": [],
   "source": [
    "class State(TypedDict):\n",
    "    messages: Annotated[list[AnyMessage], add_messages]\n",
    "    "
   ]
  },
  {
   "cell_type": "code",
   "execution_count": 17,
   "metadata": {},
   "outputs": [],
   "source": [
    "### Entire Chatbot With LangGraph\n",
    "from IPython.display import Image, display\n",
    "from langgraph.graph import StateGraph, START, END\n",
    "from langgraph.prebuilt import ToolNode\n",
    "from langgraph.prebuilt import tools_condition"
   ]
  },
  {
   "cell_type": "code",
   "execution_count": 18,
   "metadata": {},
   "outputs": [
    {
     "data": {
      "image/png": "[encoded data removed]",
      "text/plain": [
       "<IPython.core.display.Image object>"
      ]
     },
     "metadata": {},
     "output_type": "display_data"
    }
   ],
   "source": [
    "### Node definition\n",
    "def tool_calling_llm(state:State):\n",
    "    return {\"messages\":[llm_with_tools.invoke(state[\"messages\"])]}\n",
    "\n",
    "# Build graph\n",
    "builder = StateGraph(State)\n",
    "builder.add_node(\"tool_calling_llm\", tool_calling_llm)\n",
    "builder.add_node(\"tools\", ToolNode(tools))\n",
    "\n",
    "## Edgess\n",
    "builder.add_edge(START, \"tool_calling_llm\")\n",
    "builder.add_conditional_edges(\n",
    "    \"tool_calling_llm\",\n",
    "    # If the latest message (result) from assistant is a tool call -> tools_condition routes to tools\n",
    "    # If the latest message (result) from assistant is a not a tool call -> tools_condition routes to END\n",
    "    tools_condition,\n",
    ")\n",
    "builder.add_edge(\"tools\", END)\n",
    "\n",
    "graph = builder.compile()\n",
    "\n",
    "# View\n",
    "display(Image(graph.get_graph().draw_mermaid_png()))"
   ]
  },
  {
   "cell_type": "code",
   "execution_count": 19,
   "metadata": {},
   "outputs": [
    {
     "name": "stdout",
     "output_type": "stream",
     "text": [
      "================================\u001b[1m Human Message \u001b[0m=================================\n",
      "\n",
      "1706.03762\n",
      "==================================\u001b[1m Ai Message \u001b[0m==================================\n",
      "Tool Calls:\n",
      "  arxiv (call_gvqe)\n",
      " Call ID: call_gvqe\n",
      "  Args:\n",
      "    query: 1706.03762\n",
      "=================================\u001b[1m Tool Message \u001b[0m=================================\n",
      "Name: arxiv\n",
      "\n",
      "Published: 2023-08-02\n",
      "Title: Attention Is All You Need\n",
      "Authors: Ashish Vaswani, Noam Shazeer, Niki Parmar, Jakob Uszkoreit, Llion Jones, Aidan N. Gomez, Lukasz Kaiser, Illia Polosukhin\n",
      "Summary: The dominant sequence transduction models are based on complex recurrent or\n",
      "convolutional neural networks in an encoder-decoder configuration. The best\n",
      "performing models also connect the encoder and decoder through an attention\n",
      "mechanism. We propose a new simple network architecture, the Transformer, base\n"
     ]
    }
   ],
   "source": [
    "messages=graph.invoke({\"messages\":\"1706.03762\"})\n",
    "for m in messages['messages']:\n",
    "    m.pretty_print()"
   ]
  },
  {
   "cell_type": "code",
   "execution_count": 20,
   "metadata": {},
   "outputs": [
    {
     "name": "stdout",
     "output_type": "stream",
     "text": [
      "================================\u001b[1m Human Message \u001b[0m=================================\n",
      "\n",
      "Hi My name is Krish\n",
      "==================================\u001b[1m Ai Message \u001b[0m==================================\n",
      "\n",
      "Hello Krish! Nice to meet you. How can I assist you today?\n"
     ]
    }
   ],
   "source": [
    "messages=graph.invoke({\"messages\":\"Hi My name is Krish\"})\n",
    "for m in messages['messages']:\n",
    "    m.pretty_print()"
   ]
  },
  {
   "cell_type": "code",
   "execution_count": 21,
   "metadata": {},
   "outputs": [
    {
     "data": {
      "image/png": "[encoded data removed]",
      "text/plain": [
       "<IPython.core.display.Image object>"
      ]
     },
     "metadata": {},
     "output_type": "display_data"
    }
   ],
   "source": [
    "### Node definition\n",
    "def tool_calling_llm(state:State):\n",
    "    return {\"messages\":[llm_with_tools.invoke(state[\"messages\"])]}\n",
    "\n",
    "# Build graph\n",
    "builder = StateGraph(State)\n",
    "builder.add_node(\"tool_calling_llm\", tool_calling_llm)\n",
    "builder.add_node(\"tools\", ToolNode(tools))\n",
    "\n",
    "## Edgess\n",
    "builder.add_edge(START, \"tool_calling_llm\")\n",
    "builder.add_conditional_edges(\n",
    "    \"tool_calling_llm\",\n",
    "    # If the latest message (result) from assistant is a tool call -> tools_condition routes to tools\n",
    "    # If the latest message (result) from assistant is a not a tool call -> tools_condition routes to END\n",
    "    tools_condition,\n",
    ")\n",
    "builder.add_edge(\"tools\", \"tool_calling_llm\")\n",
    "\n",
    "graph = builder.compile()\n",
    "\n",
    "# View\n",
    "display(Image(graph.get_graph().draw_mermaid_png()))"
   ]
  },
  {
   "cell_type": "code",
   "execution_count": 22,
   "metadata": {},
   "outputs": [
    {
     "name": "stdout",
     "output_type": "stream",
     "text": [
      "================================\u001b[1m Human Message \u001b[0m=================================\n",
      "\n",
      "What is the recent AI news and then please tell me the recent research paper on quantum computing?\n",
      "==================================\u001b[1m Ai Message \u001b[0m==================================\n",
      "Tool Calls:\n",
      "  tavily_search_results_json (call_2cfj)\n",
      " Call ID: call_2cfj\n",
      "  Args:\n",
      "    query: recent AI news\n",
      "  arxiv (call_25w6)\n",
      " Call ID: call_25w6\n",
      "  Args:\n",
      "    query: quantum computing recent\n",
      "=================================\u001b[1m Tool Message \u001b[0m=================================\n",
      "Name: tavily_search_results_json\n",
      "\n",
      "[{\"title\": \"The latest AI news we announced in March - Google Blog\", \"url\": \"https://blog.google/technology/ai/google-ai-updates-march-2025/\", \"content\": \"The latest AI news we announced in March\\n\\nApr 04, 2025\\n\\n[[read-time]] min read\\n\\nHere’s a recap of some of our biggest AI updates from March, including Gemini 2.5 Pro, expanded access to AI Overviews, the release of AI Mode and more.\\n\\nGeneral summary [...] March was all about expanding AI across our products to make them even more helpful. The Gemini app was upgraded to include new features like personalization, Canvas and Audio Overviews, and we made our Deep Research and Gems features available at no cost. We also added our speedy Gemini 2.0 Flash Thinking experimental model under the hood — and one-upped ourselves just a few days later by making our most intelligent AI model, Gemini 2.5 Pro (experimental), available to all Gemini users. [...] We launched three new initiatives to protect and restore nature using AI. A startup accelerator, kicking off in May 2025, includes programming, mentoring and technical support from Google. Google.org is also providing $3 million to support AI-enabled solutions for biodiversity, bioeconomy and agriculture from Brazilian nonprofits. And we released SpeciesNet, a Cloud-based, open-source AI model for identifying animal species from camera trap photos, enabling people to protect nature and\", \"score\": 0.8058924}, {\"title\": \"Artificial Intelligence - Latest AI News and Analysis - WSJ.com\", \"url\": \"https://www.wsj.com/tech/ai\", \"content\": \"The latest artificial intelligence news coverage focusing on the technology, tools and the companies building AI technology.\", \"score\": 0.71425}, {\"title\": \"AI News & Artificial Intelligence - TechCrunch\", \"url\": \"https://techcrunch.com/category/artificial-intelligence/\", \"content\": \"One of Google’s recent Gemini AI models scores worse on safety\\n\\nApple and Anthropic reportedly partner to build an AI coding platform\\n\\nOpenAI pledges to make changes to prevent future ChatGPT sycophancy\\n\\nGoogle’s NotebookLM Android and iOS apps are available for preorder\\n\\nDamn, the Cluely ragebait got us\\n\\nAirbnb is quietly rolling out an AI customer service bot in the US\\n\\nAmazon CEO says 100,000 users now have Alexa+\\n\\nFutureHouse releases AI tools it claims can accelerate science [...] Microsoft CEO says up to 30% of the company’s code was written by AI\\n\\nGoogle launches AI tools for practicing languages through personalized lessons\\n\\nGoogle launches AI tools for practicing languages through personalized lessons\\n\\nIndian court orders blocking of Proton Mail\\n\\nIndian court orders blocking of Proton Mail\\n\\nHugging Face releases a 3D-printed robotic arm starting at $100\\n\\nHugging Face releases a 3D-printed robotic arm starting at $100 [...] AI\\n\\nNews coverage on artificial intelligence and machine learning tech, the companies building them, and the ethical issues AI raises today. This encompasses generative AI, including large language models, text-to-image and text-to-video models; speech recognition and generation; and predictive analytics.\\n\\n\\n\\n\\n\\nAI chatbots are ‘juicing engagement’ instead of being useful, Instagram co-founder warns\\n\\nGoogle will soon start letting kids under 13 use its Gemini chatbot\", \"score\": 0.68874115}, {\"title\": \"Artificial intelligence - NBC News\", \"url\": \"https://www.nbcnews.com/artificial-intelligence\", \"content\": \"NBC News NOW\\n\\nMORE AI NEWS\\n\\nTrump signs executive order to boost U.S. coal industry, in part to fuel artificial intelligence\\n\\nFake job seekers are flooding U.S. companies that are hiring remote, tech CEOs say\\n\\nPro-Palestinian protester interrupts Microsoft AI CEO during live event\\n\\nOpenAI funding round could be cut by $10B if for-profit conversion doesn't occur by year-end\\n\\nElon Musk's AI startup acquires X in deal that values social media platform at $33 billion [...] NBC News NOW\\n\\n02:54\\n\\nA.I. chatbots becoming popular but worry privacy advocates\\n\\nNightly News\\n\\n03:15\\n\\nChristie's begins AI art auction amid backlash\\n\\nNBC News NOW\\n\\n02:16\\n\\nVance says U.S. will be the ‘gold standard’ of AI technology\\n\\n03:36\\n\\nAI startup DeepSeek causes buzz in China but draws global scrutiny over censorship and security\\n\\nNBC News NOW\\n\\n02:03\\n\\nA.I. leaders say China may have copied U.S. technology\\n\\nNightly News\\n\\n08:23\\n\\nNew Chinese A.I. tool 'DeepSeek' competes with American models [...] Profile\\n\\nSections\\n\\nLocal\\n\\ntv\\n\\nFeatured\\n\\nMore From NBC\\n\\nFollow NBC News\\n\\nnews Alerts\\n\\nThere are no new alerts at this time\\n\\nARTIFICIAL INTELLIGENCE\\n\\nThe latest news and top stories on artificial intelligence, including ChatGPT, AI Chatbot and Bard.\\n\\nMeta executive apologizes to conservative anti-DEI activist for AI responses\\n\\nOpenAI rolled back a ChatGPT update that made the bot excessively flattering\\n\\nAI NEWS\\n\\nArtificial intelligence\", \"score\": 0.67501575}, {\"title\": \"Artificial intelligence | Massachusetts Institute of Technology\", \"url\": \"https://news.mit.edu/topic/artificial-intelligence2\", \"content\": \"MAD Fellow Alexander Htet Kyaw connects humans, machines, and the physical world using AI and augmented reality.\\n\\nApril 28, 2025\\n\\nRead full story →\\n\\nNovel method detects microbial contamination in cell cultures\\n\\nUltraviolet light “fingerprints” on cell cultures and machine learning can provide a definitive yes/no contamination assessment within 30 minutes.\\n\\nApril 25, 2025\\n\\nRead full story →\\n\\nArtificial intelligence enhances air mobility planning [...] A faster way to solve complex planning problems\\n\\nBy eliminating redundant computations, a new data-driven method can streamline processes like scheduling trains, routing delivery drivers, or assigning airline crews.\\n\\nApril 16, 2025\\n\\nRead full story →\\n\\nTraining LLMs to self-detoxify their language\\n\\nA new method from the MIT-IBM Watson AI Lab helps large language models to steer their own responses toward safer, more ethical, value-aligned outputs.\\n\\nApril 14, 2025\\n\\nRead full story →\\n\\nPagination [...] TactStyle, a system developed by CSAIL researchers, uses image prompts to replicate both the visual appearance and tactile properties of 3D models.\\n\\nApril 22, 2025\\n\\nRead full story →\\n\\nNorma Kamali is transforming the future of fashion with AI\\n\\nThe renowned designer embraces generative AI to preserve and propel her legacy.\\n\\nApril 22, 2025\\n\\nRead full story →\\n\\nMIT’s McGovern Institute is shaping brain science and improving human lives on a global scale\", \"score\": 0.6693348}]\n",
      "=================================\u001b[1m Tool Message \u001b[0m=================================\n",
      "Name: arxiv\n",
      "\n",
      "Published: 2003-05-05\n",
      "Title: Quantum computer: an appliance for playing market games\n",
      "Authors: Edward W. Piotrowski, Jan Sladkowski\n",
      "Summary: Recent development in quantum computation and quantum information theory\n",
      "allows to extend the scope of game theory for the quantum world. The authors\n",
      "have recently proposed a quantum description of financial market in terms of\n",
      "quantum game theory. The paper contain an analysis of such markets that shows\n",
      "that there would be advantage in using quantum computer\n",
      "==================================\u001b[1m Ai Message \u001b[0m==================================\n",
      "\n",
      "Here’s the information based on the tool responses:\n",
      "\n",
      "---\n",
      "\n",
      "### **Recent AI News (as of April 2025):**\n",
      "1. **Google’s Gemini 2.5 Pro Release**:  \n",
      "   Google launched Gemini 2.5 Pro, its most advanced AI model, offering expanded features like personalization, Canvas, and Audio Overviews. Free access to tools like Deep Research and Gems was also announced.  \n",
      "   \n",
      "2. **AI in Sustainability**:  \n",
      "   Google’s $3M grant program and startup accelerator aim to leverage AI for biodiversity and agriculture solutions, particularly in Brazil.  \n",
      "\n",
      "3. **Ethical AI Developments**:  \n",
      "   MIT researchers developed methods to \"self-detoxify\" language models, ensuring safer and more ethical outputs. OpenAI also adjusted ChatGPT to reduce sycophantic responses.  \n",
      "\n",
      "4. **Industry Moves**:  \n",
      "   Microsoft’s CEO noted that up to 30% of their code now uses AI, while Elon Musk’sxAI acquired Twitter (X) for $33B, sparking debates over AI’s societal impact.  \n",
      "\n",
      "---\n",
      "\n",
      "### **Quantum Computing Research Paper (Note: Tool Response Issue)**  \n",
      "The tool returned a 2003 paper titled *\"Quantum computer: an appliance for playing market games\"*, which is outdated. This suggests the query might need refinement. For recent research (2023–2024), try specifying subfields like \"quantum error correction 2024\" or \"quantum neural networks\" in a new search. Let me know if you’d like to adjust the query!  \n",
      "\n",
      "---\n",
      "\n",
      "Let me know if you’d like further details on any of these points!\n"
     ]
    }
   ],
   "source": [
    "messages=graph.invoke({\"messages\":\"What is the recent AI news and then please tell me the recent research paper on quantum computing?\"})\n",
    "for m in messages['messages']:\n",
    "    m.pretty_print()"
   ]
  },
  {
   "cell_type": "code",
   "execution_count": null,
   "metadata": {},
   "outputs": [],
   "source": []
  }
 ],
 "metadata": {
  "kernelspec": {
   "display_name": "Python 3",
   "language": "python",
   "name": "python3"
  },
  "language_info": {
   "codemirror_mode": {
    "name": "ipython",
    "version": 3
   },
   "file_extension": ".py",
   "mimetype": "text/x-python",
   "name": "python",
   "nbconvert_exporter": "python",
   "pygments_lexer": "ipython3",
   "version": "3.13.3"
  }
 },
 "nbformat": 4,
 "nbformat_minor": 2
}
